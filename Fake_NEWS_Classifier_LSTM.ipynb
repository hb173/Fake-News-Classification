{
  "nbformat": 4,
  "nbformat_minor": 0,
  "metadata": {
    "colab": {
      "name": "Copy of Fake_NEWS_Classifier_LSTM.ipynb",
      "provenance": [],
      "collapsed_sections": []
    },
    "kernelspec": {
      "name": "python3",
      "display_name": "Python 3"
    },
    "language_info": {
      "name": "python"
    },
    "accelerator": "GPU"
  },
  "cells": [
    {
      "cell_type": "code",
      "metadata": {
        "id": "pvoKZOPf3K2z",
        "colab": {
          "base_uri": "https://localhost:8080/"
        },
        "outputId": "1787b154-694f-4a7d-efb6-921535406dd3"
      },
      "source": [
        "from google.colab import drive\n",
        "drive.mount(\"/content/gdrive\")"
      ],
      "execution_count": 1,
      "outputs": [
        {
          "output_type": "stream",
          "name": "stdout",
          "text": [
            "Mounted at /content/gdrive\n"
          ]
        }
      ]
    },
    {
      "cell_type": "code",
      "metadata": {
        "id": "KO5JgjZB3PXf"
      },
      "source": [
        "import pandas as pd\n",
        "from nltk.corpus import stopwords\n",
        "from nltk.stem.porter import PorterStemmer\n",
        "from sklearn.model_selection import train_test_split\n",
        "import nltk\n",
        "import numpy as np\n",
        "from tensorflow.keras.preprocessing.sequence import pad_sequences\n",
        "from tensorflow.keras.preprocessing.text import Tokenizer\n",
        "from tensorflow.keras.layers import LSTM\n",
        "from tensorflow.keras.layers import Embedding\n",
        "from tensorflow.keras.layers import Dense\n",
        "from tensorflow.keras.models import Sequential\n",
        "from tensorflow.keras.layers import Dropout\n",
        "from tensorflow.keras.layers import Bidirectional\n",
        "from tensorflow import metrics\n"
      ],
      "execution_count": 6,
      "outputs": []
    },
    {
      "cell_type": "code",
      "source": [
        "# Loading the dataset\n",
        "news_train = pd.read_csv(\"/content/gdrive/My Drive/NLP Project/Fake_news_data.csv\")"
      ],
      "metadata": {
        "id": "JoA8oeZbosDX"
      },
      "execution_count": 7,
      "outputs": []
    },
    {
      "cell_type": "code",
      "source": [
        "# We just conduct EDA and go over the dataset as whole and \n",
        "# see if there are any flaws in the structure that need to be corrected \n",
        "# We make a copy of the data and make a perform some analysis\n",
        "# After doing some preprocessing steps we note that these data entries have no text available \n",
        "# We filter out the IDS of these data entries \n",
        "\n",
        "\n",
        "news_train_eda = news_train.copy()\n",
        "news_train_eda['text'] = news_train_eda['text'].str.lower()\n",
        "news_train_eda['text'] = news_train_eda['text'].replace('[^A-Za-z\\s]','', regex=True)\n",
        "news_train_eda['text'] = news_train_eda['text'].str.split()\n",
        "ids = list(news_train_eda.loc[news_train_eda['text'].str.len() == 0 ,]['id'])\n",
        "news_train_eda.loc[news_train['id'].isin(ids)]"
      ],
      "metadata": {
        "colab": {
          "base_uri": "https://localhost:8080/",
          "height": 424
        },
        "id": "iYKYzSX4oxfX",
        "outputId": "5281dfd9-e639-4738-c46b-e1145e1eb6ce"
      },
      "execution_count": 8,
      "outputs": [
        {
          "output_type": "execute_result",
          "data": {
            "text/html": [
              "<div>\n",
              "<style scoped>\n",
              "    .dataframe tbody tr th:only-of-type {\n",
              "        vertical-align: middle;\n",
              "    }\n",
              "\n",
              "    .dataframe tbody tr th {\n",
              "        vertical-align: top;\n",
              "    }\n",
              "\n",
              "    .dataframe thead th {\n",
              "        text-align: right;\n",
              "    }\n",
              "</style>\n",
              "<table border=\"1\" class=\"dataframe\">\n",
              "  <thead>\n",
              "    <tr style=\"text-align: right;\">\n",
              "      <th></th>\n",
              "      <th>id</th>\n",
              "      <th>title</th>\n",
              "      <th>author</th>\n",
              "      <th>text</th>\n",
              "      <th>label</th>\n",
              "    </tr>\n",
              "  </thead>\n",
              "  <tbody>\n",
              "    <tr>\n",
              "      <th>82</th>\n",
              "      <td>82</td>\n",
              "      <td>Huma’s Weiner Dogs Hillary</td>\n",
              "      <td>Steve Sailer</td>\n",
              "      <td>[]</td>\n",
              "      <td>1</td>\n",
              "    </tr>\n",
              "    <tr>\n",
              "      <th>169</th>\n",
              "      <td>169</td>\n",
              "      <td>Mohamad Khweis: Another “Virginia Man” (Palest...</td>\n",
              "      <td>James Fulford</td>\n",
              "      <td>[]</td>\n",
              "      <td>1</td>\n",
              "    </tr>\n",
              "    <tr>\n",
              "      <th>295</th>\n",
              "      <td>295</td>\n",
              "      <td>A Connecticut Reader Reports Record Voter Regi...</td>\n",
              "      <td>VDARE.com Reader</td>\n",
              "      <td>[]</td>\n",
              "      <td>1</td>\n",
              "    </tr>\n",
              "    <tr>\n",
              "      <th>470</th>\n",
              "      <td>470</td>\n",
              "      <td>BULLETIN: There ARE Righteous Jews For Trump!;...</td>\n",
              "      <td>admin</td>\n",
              "      <td>[]</td>\n",
              "      <td>1</td>\n",
              "    </tr>\n",
              "    <tr>\n",
              "      <th>492</th>\n",
              "      <td>492</td>\n",
              "      <td>Казахстан на страже ядерной безопасности | Нов...</td>\n",
              "      <td>NaN</td>\n",
              "      <td>[]</td>\n",
              "      <td>1</td>\n",
              "    </tr>\n",
              "    <tr>\n",
              "      <th>...</th>\n",
              "      <td>...</td>\n",
              "      <td>...</td>\n",
              "      <td>...</td>\n",
              "      <td>...</td>\n",
              "      <td>...</td>\n",
              "    </tr>\n",
              "    <tr>\n",
              "      <th>20141</th>\n",
              "      <td>20141</td>\n",
              "      <td>Thomas Frank Explores Whether Hillary Clinton ...</td>\n",
              "      <td>NaN</td>\n",
              "      <td>[]</td>\n",
              "      <td>1</td>\n",
              "    </tr>\n",
              "    <tr>\n",
              "      <th>20242</th>\n",
              "      <td>20242</td>\n",
              "      <td>Radio Derb Transcript For October 21 Up: The M...</td>\n",
              "      <td>John Derbyshire</td>\n",
              "      <td>[]</td>\n",
              "      <td>1</td>\n",
              "    </tr>\n",
              "    <tr>\n",
              "      <th>20264</th>\n",
              "      <td>20264</td>\n",
              "      <td>Pro-sovereignty Legislators Demand That Admini...</td>\n",
              "      <td>Brenda Walker</td>\n",
              "      <td>[]</td>\n",
              "      <td>1</td>\n",
              "    </tr>\n",
              "    <tr>\n",
              "      <th>20513</th>\n",
              "      <td>20513</td>\n",
              "      <td>SAID IN SPANISH: A Mexican Governor Meddles In...</td>\n",
              "      <td>Allan Wall</td>\n",
              "      <td>[]</td>\n",
              "      <td>1</td>\n",
              "    </tr>\n",
              "    <tr>\n",
              "      <th>20558</th>\n",
              "      <td>20558</td>\n",
              "      <td>Кто любит Стивена Сигала?</td>\n",
              "      <td>Жанна Ивченко</td>\n",
              "      <td>[]</td>\n",
              "      <td>1</td>\n",
              "    </tr>\n",
              "  </tbody>\n",
              "</table>\n",
              "<p>121 rows × 5 columns</p>\n",
              "</div>"
            ],
            "text/plain": [
              "          id                                              title  ... text label\n",
              "82        82                         Huma’s Weiner Dogs Hillary  ...   []     1\n",
              "169      169  Mohamad Khweis: Another “Virginia Man” (Palest...  ...   []     1\n",
              "295      295  A Connecticut Reader Reports Record Voter Regi...  ...   []     1\n",
              "470      470  BULLETIN: There ARE Righteous Jews For Trump!;...  ...   []     1\n",
              "492      492  Казахстан на страже ядерной безопасности | Нов...  ...   []     1\n",
              "...      ...                                                ...  ...  ...   ...\n",
              "20141  20141  Thomas Frank Explores Whether Hillary Clinton ...  ...   []     1\n",
              "20242  20242  Radio Derb Transcript For October 21 Up: The M...  ...   []     1\n",
              "20264  20264  Pro-sovereignty Legislators Demand That Admini...  ...   []     1\n",
              "20513  20513  SAID IN SPANISH: A Mexican Governor Meddles In...  ...   []     1\n",
              "20558  20558                          Кто любит Стивена Сигала?  ...   []     1\n",
              "\n",
              "[121 rows x 5 columns]"
            ]
          },
          "metadata": {},
          "execution_count": 8
        }
      ]
    },
    {
      "cell_type": "code",
      "source": [
        "# However, the text column above is a copy of a generated data with \n",
        "# some proprocessing steps already performed on it\n",
        "# We use those IDs to get an idea of how the actual data entries of this data looks like\n",
        "# We see that either there are no ids or there are the text is not in English language\n",
        "news_train.loc[news_train['id'].isin(ids)] "
      ],
      "metadata": {
        "colab": {
          "base_uri": "https://localhost:8080/",
          "height": 424
        },
        "id": "8oWP0nMVo2IH",
        "outputId": "094d88d2-0853-4c8a-ab76-48e88cb533fc"
      },
      "execution_count": 9,
      "outputs": [
        {
          "output_type": "execute_result",
          "data": {
            "text/html": [
              "<div>\n",
              "<style scoped>\n",
              "    .dataframe tbody tr th:only-of-type {\n",
              "        vertical-align: middle;\n",
              "    }\n",
              "\n",
              "    .dataframe tbody tr th {\n",
              "        vertical-align: top;\n",
              "    }\n",
              "\n",
              "    .dataframe thead th {\n",
              "        text-align: right;\n",
              "    }\n",
              "</style>\n",
              "<table border=\"1\" class=\"dataframe\">\n",
              "  <thead>\n",
              "    <tr style=\"text-align: right;\">\n",
              "      <th></th>\n",
              "      <th>id</th>\n",
              "      <th>title</th>\n",
              "      <th>author</th>\n",
              "      <th>text</th>\n",
              "      <th>label</th>\n",
              "    </tr>\n",
              "  </thead>\n",
              "  <tbody>\n",
              "    <tr>\n",
              "      <th>82</th>\n",
              "      <td>82</td>\n",
              "      <td>Huma’s Weiner Dogs Hillary</td>\n",
              "      <td>Steve Sailer</td>\n",
              "      <td></td>\n",
              "      <td>1</td>\n",
              "    </tr>\n",
              "    <tr>\n",
              "      <th>169</th>\n",
              "      <td>169</td>\n",
              "      <td>Mohamad Khweis: Another “Virginia Man” (Palest...</td>\n",
              "      <td>James Fulford</td>\n",
              "      <td></td>\n",
              "      <td>1</td>\n",
              "    </tr>\n",
              "    <tr>\n",
              "      <th>295</th>\n",
              "      <td>295</td>\n",
              "      <td>A Connecticut Reader Reports Record Voter Regi...</td>\n",
              "      <td>VDARE.com Reader</td>\n",
              "      <td></td>\n",
              "      <td>1</td>\n",
              "    </tr>\n",
              "    <tr>\n",
              "      <th>470</th>\n",
              "      <td>470</td>\n",
              "      <td>BULLETIN: There ARE Righteous Jews For Trump!;...</td>\n",
              "      <td>admin</td>\n",
              "      <td></td>\n",
              "      <td>1</td>\n",
              "    </tr>\n",
              "    <tr>\n",
              "      <th>492</th>\n",
              "      <td>492</td>\n",
              "      <td>Казахстан на страже ядерной безопасности | Нов...</td>\n",
              "      <td>NaN</td>\n",
              "      <td>В ноябре 2016 г. Мажилис Парламента Республики...</td>\n",
              "      <td>1</td>\n",
              "    </tr>\n",
              "    <tr>\n",
              "      <th>...</th>\n",
              "      <td>...</td>\n",
              "      <td>...</td>\n",
              "      <td>...</td>\n",
              "      <td>...</td>\n",
              "      <td>...</td>\n",
              "    </tr>\n",
              "    <tr>\n",
              "      <th>20141</th>\n",
              "      <td>20141</td>\n",
              "      <td>Thomas Frank Explores Whether Hillary Clinton ...</td>\n",
              "      <td>NaN</td>\n",
              "      <td></td>\n",
              "      <td>1</td>\n",
              "    </tr>\n",
              "    <tr>\n",
              "      <th>20242</th>\n",
              "      <td>20242</td>\n",
              "      <td>Radio Derb Transcript For October 21 Up: The M...</td>\n",
              "      <td>John Derbyshire</td>\n",
              "      <td></td>\n",
              "      <td>1</td>\n",
              "    </tr>\n",
              "    <tr>\n",
              "      <th>20264</th>\n",
              "      <td>20264</td>\n",
              "      <td>Pro-sovereignty Legislators Demand That Admini...</td>\n",
              "      <td>Brenda Walker</td>\n",
              "      <td></td>\n",
              "      <td>1</td>\n",
              "    </tr>\n",
              "    <tr>\n",
              "      <th>20513</th>\n",
              "      <td>20513</td>\n",
              "      <td>SAID IN SPANISH: A Mexican Governor Meddles In...</td>\n",
              "      <td>Allan Wall</td>\n",
              "      <td></td>\n",
              "      <td>1</td>\n",
              "    </tr>\n",
              "    <tr>\n",
              "      <th>20558</th>\n",
              "      <td>20558</td>\n",
              "      <td>Кто любит Стивена Сигала?</td>\n",
              "      <td>Жанна Ивченко</td>\n",
              "      <td>Политика \\nПомните первые видеосалоны 1990-х, ...</td>\n",
              "      <td>1</td>\n",
              "    </tr>\n",
              "  </tbody>\n",
              "</table>\n",
              "<p>121 rows × 5 columns</p>\n",
              "</div>"
            ],
            "text/plain": [
              "          id  ... label\n",
              "82        82  ...     1\n",
              "169      169  ...     1\n",
              "295      295  ...     1\n",
              "470      470  ...     1\n",
              "492      492  ...     1\n",
              "...      ...  ...   ...\n",
              "20141  20141  ...     1\n",
              "20242  20242  ...     1\n",
              "20264  20264  ...     1\n",
              "20513  20513  ...     1\n",
              "20558  20558  ...     1\n",
              "\n",
              "[121 rows x 5 columns]"
            ]
          },
          "metadata": {},
          "execution_count": 9
        }
      ]
    },
    {
      "cell_type": "code",
      "source": [
        "# To resolve this we replace the \"text\" of the sentences we our \"title\"\n",
        "news_train.loc[news_train[\"id\"].isin(ids), \"text\"] = news_train.loc[\n",
        "    news_train[\"id\"].isin(ids), \"title\"\n",
        "]"
      ],
      "metadata": {
        "id": "CP6ot_FUo5KH"
      },
      "execution_count": 10,
      "outputs": []
    },
    {
      "cell_type": "code",
      "source": [
        "# We only use the first 15000 rows to generate a train data set. This will include the train test split.\n",
        "# The rest 5800 rows, we keep that as unseen data to check how well the model is actually performing.\n",
        "news_train = news_train.iloc[:14999,:] # we filter the first 15000 rows"
      ],
      "metadata": {
        "id": "sFY2adl-pBOA"
      },
      "execution_count": 11,
      "outputs": []
    },
    {
      "cell_type": "code",
      "metadata": {
        "id": "UFwR5ZdT3RX3"
      },
      "source": [
        "# Now that we have our data ready we perform preprocessing steps on it\n",
        "news_train = news_train.dropna()  # place this above the two cells\n",
        "label = news_train[\"label\"]  # Get a seperate columns for labels\n",
        "news_train = news_train.drop(\"label\", axis=1)\n",
        "news_train.set_index(\"id\", inplace=True)\n",
        "\n",
        "\n",
        "news_train[\"text\"] = news_train[\n",
        "    \"text\"\n",
        "].str.lower()  # convert the whole text to lower case to ensure uniformity\n",
        "\n",
        "news_train[\"text\"] = news_train[\"text\"].replace(\"[^A-Za-z\\s]\", \"\", regex=True)\n",
        "#Replace everything that is not letters or a space with a blank\n",
        "\n",
        "news_train[\"text\"] = news_train[\"text\"].str.split()  # split our text column to a list"
      ],
      "execution_count": 12,
      "outputs": []
    },
    {
      "cell_type": "code",
      "metadata": {
        "colab": {
          "base_uri": "https://localhost:8080/"
        },
        "id": "vXtUJjiP3Ty0",
        "outputId": "027ac5c9-dec9-43f1-88c0-2d7d751c9c1f"
      },
      "source": [
        "ps = PorterStemmer()\n",
        "nltk.download(\"stopwords\")\n",
        "\n",
        "\n",
        "def remove_stopwords_and_stem(x):\n",
        "    stopwds_lst = stopwords.words(\"english\")\n",
        "    sentence = \"\"\n",
        "    for i in x:\n",
        "        if i in stopwds_lst:\n",
        "            x.remove(i)\n",
        "    for k in range(len(x)):\n",
        "        word = ps.stem(x[k])\n",
        "        x[k] = word\n",
        "    for j in x:\n",
        "        sentence = sentence + j + \" \"\n",
        "    sentence_final = sentence[:-1]\n",
        "    return sentence_final"
      ],
      "execution_count": 13,
      "outputs": [
        {
          "output_type": "stream",
          "name": "stdout",
          "text": [
            "[nltk_data] Downloading package stopwords to /root/nltk_data...\n",
            "[nltk_data]   Unzipping corpora/stopwords.zip.\n"
          ]
        }
      ]
    },
    {
      "cell_type": "code",
      "metadata": {
        "id": "w7dhI9ZP3WjO"
      },
      "source": [
        "news_train['text'] = news_train['text'].apply(remove_stopwords_and_stem)"
      ],
      "execution_count": 14,
      "outputs": []
    },
    {
      "cell_type": "code",
      "metadata": {
        "id": "fcQ4P_sO3aQW"
      },
      "source": [
        "text_comments = list(news_train['text']) # make a list of all documents in the data"
      ],
      "execution_count": 15,
      "outputs": []
    },
    {
      "cell_type": "code",
      "metadata": {
        "colab": {
          "base_uri": "https://localhost:8080/"
        },
        "id": "haj63VvG4Ufr",
        "outputId": "a47b1b59-338b-4cdc-b68b-5131e3ecc5da"
      },
      "source": [
        "# we calculate the number of unique words in the corpus to make a \n",
        "# one hot encoded vector representation for each word later\n",
        "unique_words = []\n",
        "for i in text_comments:\n",
        "    for j in np.unique(i.split()):\n",
        "        if j not in unique_words:\n",
        "            unique_words.append(j)\n",
        "len(unique_words)"
      ],
      "execution_count": null,
      "outputs": [
        {
          "output_type": "execute_result",
          "data": {
            "text/plain": [
              "104354"
            ]
          },
          "metadata": {},
          "execution_count": 71
        }
      ]
    },
    {
      "cell_type": "code",
      "source": [
        "my_token = Tokenizer(num_words= 104354, oov_token='<OOV>') # assign a unique integer to each word in train corpus. Later for unseen data we have OOV tag.\n",
        "my_token.fit_on_texts(text_comments)\n",
        "one_hot_encoded = my_token.texts_to_sequences(text_comments)"
      ],
      "metadata": {
        "id": "xBlCIXsepC9b"
      },
      "execution_count": 16,
      "outputs": []
    },
    {
      "cell_type": "code",
      "metadata": {
        "id": "fLYcyVj33fwy"
      },
      "source": [
        "equal_length = pad_sequences(one_hot_encoded, padding = 'post', maxlen= 500) # after one hot encoding the length of most vectors was around 500 \n",
        "# so we pad each sequence to a fixed length of 500"
      ],
      "execution_count": 17,
      "outputs": []
    },
    {
      "cell_type": "code",
      "metadata": {
        "colab": {
          "base_uri": "https://localhost:8080/"
        },
        "id": "vB3X_KEx3h1P",
        "outputId": "8ebe0c44-ffcc-4979-e009-2657807459cc"
      },
      "source": [
        "model1 = Sequential() # we start our model by initial a sequential model in keras\n",
        "model1.add(Embedding(104355, 50, input_length= 500)) # pass our one hot encoded vectors through an embedding layer reducing the dimenion to 50\n",
        "model1.add(Bidirectional(LSTM(100, input_shape = (500,50), return_sequences=True))) # generate a bidirectional LSTM and get the output at each timestep\n",
        "model1.add(LSTM(100, input_shape=(500,200))) # given that we got an out from bidirectional lstm of each time step we add it to a LSTM again in a sequential manner\n",
        "model1.add(Dropout(0.3))\n",
        "model1.add(Dense(1, activation='sigmoid')) # add a dense layer with activation as sigmoid as our output is binary\n",
        "model1.compile(loss='binary_crossentropy', optimizer='adam', metrics=[ 'accuracy', metrics.Recall()]) # compile our model\n",
        "print(model1.summary())"
      ],
      "execution_count": 19,
      "outputs": [
        {
          "output_type": "stream",
          "name": "stdout",
          "text": [
            "Model: \"sequential\"\n",
            "_________________________________________________________________\n",
            " Layer (type)                Output Shape              Param #   \n",
            "=================================================================\n",
            " embedding (Embedding)       (None, 500, 50)           5217750   \n",
            "                                                                 \n",
            " bidirectional (Bidirectiona  (None, 500, 200)         120800    \n",
            " l)                                                              \n",
            "                                                                 \n",
            " lstm_1 (LSTM)               (None, 100)               120400    \n",
            "                                                                 \n",
            " dropout (Dropout)           (None, 100)               0         \n",
            "                                                                 \n",
            " dense (Dense)               (None, 1)                 101       \n",
            "                                                                 \n",
            "=================================================================\n",
            "Total params: 5,459,051\n",
            "Trainable params: 5,459,051\n",
            "Non-trainable params: 0\n",
            "_________________________________________________________________\n",
            "None\n"
          ]
        }
      ]
    },
    {
      "cell_type": "code",
      "metadata": {
        "id": "pwLZR_Ta3kVg"
      },
      "source": [
        "input = np.array(equal_length) # make input array \n",
        "output = np.array(label) # make output labels"
      ],
      "execution_count": 20,
      "outputs": []
    },
    {
      "cell_type": "code",
      "metadata": {
        "id": "P3eQKPBl3o-z"
      },
      "source": [
        "X_train,X_test,y_train,y_test = train_test_split(input, output, test_size=0.33, random_state=42) # make train test split for cross validation"
      ],
      "execution_count": 21,
      "outputs": []
    },
    {
      "cell_type": "code",
      "metadata": {
        "colab": {
          "base_uri": "https://localhost:8080/"
        },
        "id": "HnAPexJO3xEg",
        "outputId": "81899fd7-83d9-4a37-9dea-6e0b00e5cce4"
      },
      "source": [
        "history = model1.fit(X_train,y_train,validation_data=(X_test, y_test), epochs=20, batch_size=64) # run the model with batch_size 64 and epochs 20"
      ],
      "execution_count": 22,
      "outputs": [
        {
          "output_type": "stream",
          "name": "stdout",
          "text": [
            "Epoch 1/20\n",
            "138/138 [==============================] - 58s 356ms/step - loss: 0.6615 - accuracy: 0.6253 - recall: 0.6475 - val_loss: 0.5547 - val_accuracy: 0.6918 - val_recall: 0.8174\n",
            "Epoch 2/20\n",
            "138/138 [==============================] - 47s 342ms/step - loss: 0.5025 - accuracy: 0.7006 - recall: 0.8007 - val_loss: 0.5330 - val_accuracy: 0.6479 - val_recall: 0.2235\n",
            "Epoch 3/20\n",
            "138/138 [==============================] - 47s 340ms/step - loss: 0.4509 - accuracy: 0.7060 - recall: 0.7544 - val_loss: 0.5100 - val_accuracy: 0.6681 - val_recall: 0.2746\n",
            "Epoch 4/20\n",
            "138/138 [==============================] - 47s 339ms/step - loss: 0.4106 - accuracy: 0.7312 - recall: 0.8023 - val_loss: 0.6256 - val_accuracy: 0.6603 - val_recall: 0.9817\n",
            "Epoch 5/20\n",
            "138/138 [==============================] - 47s 341ms/step - loss: 0.4463 - accuracy: 0.7480 - recall: 0.8278 - val_loss: 0.5607 - val_accuracy: 0.6902 - val_recall: 0.8939\n",
            "Epoch 6/20\n",
            "138/138 [==============================] - 47s 341ms/step - loss: 0.4011 - accuracy: 0.7906 - recall: 0.8213 - val_loss: 0.4006 - val_accuracy: 0.8377 - val_recall: 0.7894\n",
            "Epoch 7/20\n",
            "138/138 [==============================] - 47s 340ms/step - loss: 0.4517 - accuracy: 0.7318 - recall: 0.6535 - val_loss: 0.5738 - val_accuracy: 0.7001 - val_recall: 0.9526\n",
            "Epoch 8/20\n",
            "138/138 [==============================] - 47s 341ms/step - loss: 0.2868 - accuracy: 0.8862 - recall: 0.8905 - val_loss: 0.4602 - val_accuracy: 0.8573 - val_recall: 0.8519\n",
            "Epoch 9/20\n",
            "138/138 [==============================] - 47s 339ms/step - loss: 0.4110 - accuracy: 0.7622 - recall: 0.6961 - val_loss: 0.6000 - val_accuracy: 0.6357 - val_recall: 0.2563\n",
            "Epoch 10/20\n",
            "138/138 [==============================] - 47s 340ms/step - loss: 0.4039 - accuracy: 0.7439 - recall: 0.7445 - val_loss: 0.4590 - val_accuracy: 0.7943 - val_recall: 0.9418\n",
            "Epoch 11/20\n",
            "138/138 [==============================] - 47s 341ms/step - loss: 0.3529 - accuracy: 0.8310 - recall: 0.8236 - val_loss: 0.4492 - val_accuracy: 0.8481 - val_recall: 0.7905\n",
            "Epoch 12/20\n",
            "138/138 [==============================] - 47s 341ms/step - loss: 0.2458 - accuracy: 0.9038 - recall: 0.8762 - val_loss: 0.4119 - val_accuracy: 0.8338 - val_recall: 0.9181\n",
            "Epoch 13/20\n",
            "138/138 [==============================] - 47s 340ms/step - loss: 0.2606 - accuracy: 0.9032 - recall: 0.8757 - val_loss: 0.3287 - val_accuracy: 0.8738 - val_recall: 0.9106\n",
            "Epoch 14/20\n",
            "138/138 [==============================] - 47s 339ms/step - loss: 0.1298 - accuracy: 0.9540 - recall: 0.9506 - val_loss: 0.2887 - val_accuracy: 0.9078 - val_recall: 0.8729\n",
            "Epoch 15/20\n",
            "138/138 [==============================] - 47s 341ms/step - loss: 0.0879 - accuracy: 0.9723 - recall: 0.9781 - val_loss: 0.3030 - val_accuracy: 0.8940 - val_recall: 0.9348\n",
            "Epoch 16/20\n",
            "138/138 [==============================] - 47s 341ms/step - loss: 0.0623 - accuracy: 0.9803 - recall: 0.9860 - val_loss: 0.3006 - val_accuracy: 0.9046 - val_recall: 0.8939\n",
            "Epoch 17/20\n",
            "138/138 [==============================] - 47s 339ms/step - loss: 0.0513 - accuracy: 0.9857 - recall: 0.9922 - val_loss: 0.2921 - val_accuracy: 0.9094 - val_recall: 0.9391\n",
            "Epoch 18/20\n",
            "138/138 [==============================] - 47s 342ms/step - loss: 0.1208 - accuracy: 0.9613 - recall: 0.9409 - val_loss: 0.2325 - val_accuracy: 0.9239 - val_recall: 0.8600\n",
            "Epoch 19/20\n",
            "138/138 [==============================] - 47s 338ms/step - loss: 0.0334 - accuracy: 0.9922 - recall: 0.9912 - val_loss: 0.2167 - val_accuracy: 0.9331 - val_recall: 0.9106\n",
            "Epoch 20/20\n",
            "138/138 [==============================] - 47s 341ms/step - loss: 0.0210 - accuracy: 0.9960 - recall: 0.9969 - val_loss: 0.2362 - val_accuracy: 0.9308 - val_recall: 0.9058\n"
          ]
        }
      ]
    },
    {
      "cell_type": "code",
      "metadata": {
        "id": "fxc3tS824Be3"
      },
      "source": [
        "model1.save('/content/gdrive/My Drive/NLP Project/neural_network.h5') # save our network"
      ],
      "execution_count": 26,
      "outputs": []
    },
    {
      "cell_type": "code",
      "source": [
        "import pickle\n",
        "# save tokenizer\n",
        "pickle.dump(\n",
        "    my_token,\n",
        "    open(\n",
        "        \"/content/gdrive/My Drive/NLP Project/Text_Vec.pkl\",\n",
        "        \"wb\",\n",
        "    ),\n",
        ")"
      ],
      "metadata": {
        "id": "T8-FbNeJ7_hK"
      },
      "execution_count": 27,
      "outputs": []
    },
    {
      "cell_type": "code",
      "source": [
        "import matplotlib.pyplot as plt\n",
        "# summarize history for accuracy\n",
        "plt.plot(history.history['accuracy'])\n",
        "plt.plot(history.history['val_accuracy'])\n",
        "plt.title('model accuracy')\n",
        "plt.ylabel('accuracy')\n",
        "plt.xlabel('epoch')\n",
        "plt.legend(['train', 'test'], loc='upper left')\n",
        "plt.show()\n",
        "# summarize history for loss\n",
        "plt.plot(history.history['loss'])\n",
        "plt.plot(history.history['val_loss'])\n",
        "plt.title('model loss')\n",
        "plt.ylabel('loss')\n",
        "plt.xlabel('epoch')\n",
        "plt.legend(['train', 'test'], loc='upper left')\n",
        "plt.show()"
      ],
      "metadata": {
        "colab": {
          "base_uri": "https://localhost:8080/",
          "height": 573
        },
        "id": "BsH_upFYhiOd",
        "outputId": "518e0a65-5730-47e2-b77c-316092e4508a"
      },
      "execution_count": 25,
      "outputs": [
        {
          "output_type": "display_data",
          "data": {
            "image/png": "[encoded data removed]",
            "text/plain": [
              "<Figure size 432x288 with 1 Axes>"
            ]
          },
          "metadata": {
            "needs_background": "light"
          }
        },
        {
          "output_type": "display_data",
          "data": {
            "image/png": "[encoded data removed]",
            "text/plain": [
              "<Figure size 432x288 with 1 Axes>"
            ]
          },
          "metadata": {
            "needs_background": "light"
          }
        }
      ]
    }
  ]
}